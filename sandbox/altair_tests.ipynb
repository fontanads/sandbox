{
 "cells": [
  {
   "cell_type": "code",
   "execution_count": 2,
   "metadata": {},
   "outputs": [],
   "source": [
    "import numpy as np\n",
    "import pandas as pd\n",
    "import altair as alt"
   ]
  },
  {
   "cell_type": "code",
   "execution_count": 3,
   "metadata": {},
   "outputs": [
    {
     "name": "stdout",
     "output_type": "stream",
     "text": [
      "<class 'pandas.core.frame.DataFrame'>\n",
      "RangeIndex: 10 entries, 0 to 9\n",
      "Data columns (total 3 columns):\n",
      " #   Column  Non-Null Count  Dtype  \n",
      "---  ------  --------------  -----  \n",
      " 0   x1      10 non-null     float64\n",
      " 1   x2      10 non-null     float64\n",
      " 2   label   10 non-null     int8   \n",
      "dtypes: float64(2), int8(1)\n",
      "memory usage: 298.0 bytes\n"
     ]
    }
   ],
   "source": [
    "x_np = np.random.random(size=(10, 2))\n",
    "hue_np = np.random.randint(low=0, high=3, size=(10, 1), dtype=np.int8)\n",
    "df = pd.concat([pd.DataFrame(x_np), pd.DataFrame(hue_np)], axis=1)\n",
    "df.columns = ['x1', 'x2', 'label']\n",
    "df.info()\n",
    "df.label = df.label.astype('category')"
   ]
  },
  {
   "cell_type": "code",
   "execution_count": 4,
   "metadata": {},
   "outputs": [
    {
     "name": "stderr",
     "output_type": "stream",
     "text": [
      "c:\\Users\\fonta\\AppData\\Local\\pypoetry\\Cache\\virtualenvs\\sandbox-P7rcBpMs-py3.11\\Lib\\site-packages\\altair\\utils\\core.py:317: FutureWarning: iteritems is deprecated and will be removed in a future version. Use .items instead.\n",
      "  for col_name, dtype in df.dtypes.iteritems():\n"
     ]
    },
    {
     "data": {
      "text/html": [
       "\n",
       "<div id=\"altair-viz-2bf99fce11474eeeb1cee884da254fb9\"></div>\n",
       "<script type=\"text/javascript\">\n",
       "  var VEGA_DEBUG = (typeof VEGA_DEBUG == \"undefined\") ? {} : VEGA_DEBUG;\n",
       "  (function(spec, embedOpt){\n",
       "    let outputDiv = document.currentScript.previousElementSibling;\n",
       "    if (outputDiv.id !== \"altair-viz-2bf99fce11474eeeb1cee884da254fb9\") {\n",
       "      outputDiv = document.getElementById(\"altair-viz-2bf99fce11474eeeb1cee884da254fb9\");\n",
       "    }\n",
       "    const paths = {\n",
       "      \"vega\": \"https://cdn.jsdelivr.net/npm//vega@5?noext\",\n",
       "      \"vega-lib\": \"https://cdn.jsdelivr.net/npm//vega-lib?noext\",\n",
       "      \"vega-lite\": \"https://cdn.jsdelivr.net/npm//vega-lite@4.17.0?noext\",\n",
       "      \"vega-embed\": \"https://cdn.jsdelivr.net/npm//vega-embed@6?noext\",\n",
       "    };\n",
       "\n",
       "    function maybeLoadScript(lib, version) {\n",
       "      var key = `${lib.replace(\"-\", \"\")}_version`;\n",
       "      return (VEGA_DEBUG[key] == version) ?\n",
       "        Promise.resolve(paths[lib]) :\n",
       "        new Promise(function(resolve, reject) {\n",
       "          var s = document.createElement('script');\n",
       "          document.getElementsByTagName(\"head\")[0].appendChild(s);\n",
       "          s.async = true;\n",
       "          s.onload = () => {\n",
       "            VEGA_DEBUG[key] = version;\n",
       "            return resolve(paths[lib]);\n",
       "          };\n",
       "          s.onerror = () => reject(`Error loading script: ${paths[lib]}`);\n",
       "          s.src = paths[lib];\n",
       "        });\n",
       "    }\n",
       "\n",
       "    function showError(err) {\n",
       "      outputDiv.innerHTML = `<div class=\"error\" style=\"color:red;\">${err}</div>`;\n",
       "      throw err;\n",
       "    }\n",
       "\n",
       "    function displayChart(vegaEmbed) {\n",
       "      vegaEmbed(outputDiv, spec, embedOpt)\n",
       "        .catch(err => showError(`Javascript Error: ${err.message}<br>This usually means there's a typo in your chart specification. See the javascript console for the full traceback.`));\n",
       "    }\n",
       "\n",
       "    if(typeof define === \"function\" && define.amd) {\n",
       "      requirejs.config({paths});\n",
       "      require([\"vega-embed\"], displayChart, err => showError(`Error loading script: ${err.message}`));\n",
       "    } else {\n",
       "      maybeLoadScript(\"vega\", \"5\")\n",
       "        .then(() => maybeLoadScript(\"vega-lite\", \"4.17.0\"))\n",
       "        .then(() => maybeLoadScript(\"vega-embed\", \"6\"))\n",
       "        .catch(showError)\n",
       "        .then(() => displayChart(vegaEmbed));\n",
       "    }\n",
       "  })({\"config\": {\"view\": {\"continuousWidth\": 400, \"continuousHeight\": 300}}, \"layer\": [{\"mark\": {\"type\": \"circle\", \"size\": 40}, \"encoding\": {\"color\": {\"field\": \"label\", \"type\": \"nominal\"}, \"tooltip\": [{\"field\": \"x1\", \"type\": \"quantitative\"}], \"x\": {\"field\": \"x1\", \"type\": \"quantitative\"}, \"y\": {\"field\": \"x2\", \"type\": \"quantitative\"}}, \"selection\": {\"selector002\": {\"type\": \"interval\", \"bind\": \"scales\", \"encodings\": [\"x\", \"y\"]}}}, {\"mark\": \"point\", \"encoding\": {\"opacity\": {\"value\": 0}, \"x\": {\"field\": \"x1\", \"type\": \"quantitative\"}}, \"selection\": {\"selector001\": {\"type\": \"single\", \"nearest\": true, \"on\": \"mouseover\", \"fields\": [\"x1\"]}}}, {\"mark\": {\"type\": \"text\", \"align\": \"left\", \"dx\": 3, \"dy\": -3}, \"encoding\": {\"color\": {\"field\": \"label\", \"type\": \"nominal\"}, \"text\": {\"condition\": {\"field\": \"label\", \"type\": \"nominal\", \"selection\": \"selector001\"}, \"value\": \" \"}, \"tooltip\": [{\"field\": \"x1\", \"type\": \"quantitative\"}], \"x\": {\"field\": \"x1\", \"type\": \"quantitative\"}, \"y\": {\"field\": \"x2\", \"type\": \"quantitative\"}}}], \"data\": {\"name\": \"data-5ecdcba031d4d3d7ef7f2f8ee40cdbbe\"}, \"width\": 600, \"$schema\": \"https://vega.github.io/schema/vega-lite/v4.17.0.json\", \"datasets\": {\"data-5ecdcba031d4d3d7ef7f2f8ee40cdbbe\": [{\"x1\": 0.30274000247030497, \"x2\": 0.6568775514811248, \"label\": 1}, {\"x1\": 0.006229576145230009, \"x2\": 0.41419124907826155, \"label\": 1}, {\"x1\": 0.7827078663450725, \"x2\": 0.38117692315948115, \"label\": 1}, {\"x1\": 0.18128484604567063, \"x2\": 0.39535009350947803, \"label\": 1}, {\"x1\": 0.01490549356852855, \"x2\": 0.5788184434836244, \"label\": 0}, {\"x1\": 0.9454292808378343, \"x2\": 0.9136369375480797, \"label\": 2}, {\"x1\": 0.7896556646804939, \"x2\": 0.25538327390728244, \"label\": 0}, {\"x1\": 0.9871787423383925, \"x2\": 0.35922749260395415, \"label\": 0}, {\"x1\": 0.27041395853646566, \"x2\": 0.12125400802926622, \"label\": 2}, {\"x1\": 0.020917202474547314, \"x2\": 0.28198166014558934, \"label\": 0}]}}, {\"mode\": \"vega-lite\"});\n",
       "</script>"
      ],
      "text/plain": [
       "alt.LayerChart(...)"
      ]
     },
     "execution_count": 4,
     "metadata": {},
     "output_type": "execute_result"
    }
   ],
   "source": [
    "scatterplot = alt.Chart().mark_circle(size=40)\\\n",
    "    .encode(x='x1:Q', y='x2:Q', color='label:N',\n",
    "    tooltip=['x1'])\n",
    "\n",
    "nearest = alt.selection(type='single', nearest=True, on='mouseover',\n",
    "                        fields=['x1'])\n",
    "\n",
    "selectors = alt.Chart().mark_point()\\\n",
    "    .encode(x=\"x1:Q\", opacity=alt.value(0))\\\n",
    "    .add_selection(nearest)\n",
    "\n",
    "text = scatterplot\\\n",
    "    .mark_text(align='left', dx=3, dy=-3)\\\n",
    "    .encode(text=alt.condition(nearest, 'label:N', alt.value(' ')))\n",
    "\n",
    "\n",
    "chart = alt.layer(scatterplot, selectors, text, data=df, width=600).interactive()\n",
    "chart.save('chart.html')\n",
    "chart\n"
   ]
  },
  {
   "cell_type": "code",
   "execution_count": null,
   "metadata": {},
   "outputs": [],
   "source": []
  },
  {
   "cell_type": "code",
   "execution_count": null,
   "metadata": {},
   "outputs": [],
   "source": []
  },
  {
   "cell_type": "code",
   "execution_count": null,
   "metadata": {},
   "outputs": [],
   "source": []
  }
 ],
 "metadata": {
  "kernelspec": {
   "display_name": "sandbox-P7rcBpMs-py3.11",
   "language": "python",
   "name": "python3"
  },
  "language_info": {
   "codemirror_mode": {
    "name": "ipython",
    "version": 3
   },
   "file_extension": ".py",
   "mimetype": "text/x-python",
   "name": "python",
   "nbconvert_exporter": "python",
   "pygments_lexer": "ipython3",
   "version": "3.11.1"
  },
  "orig_nbformat": 4,
  "vscode": {
   "interpreter": {
    "hash": "58b554dd45d4a7f159cfb12362b8ddd459e0d658f36809bff1eda4736248abd3"
   }
  }
 },
 "nbformat": 4,
 "nbformat_minor": 2
}
