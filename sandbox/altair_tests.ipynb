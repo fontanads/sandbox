{
 "cells": [
  {
   "cell_type": "code",
   "execution_count": 2,
   "metadata": {},
   "outputs": [],
   "source": [
    "import numpy as np\n",
    "import pandas as pd\n",
    "import altair as alt"
   ]
  },
  {
   "cell_type": "code",
   "execution_count": 45,
   "metadata": {},
   "outputs": [
    {
     "name": "stdout",
     "output_type": "stream",
     "text": [
      "<class 'pandas.core.frame.DataFrame'>\n",
      "RangeIndex: 10 entries, 0 to 9\n",
      "Data columns (total 3 columns):\n",
      " #   Column  Non-Null Count  Dtype  \n",
      "---  ------  --------------  -----  \n",
      " 0   x1      10 non-null     float64\n",
      " 1   x2      10 non-null     float64\n",
      " 2   label   10 non-null     int8   \n",
      "dtypes: float64(2), int8(1)\n",
      "memory usage: 298.0 bytes\n"
     ]
    }
   ],
   "source": [
    "x_np = np.random.random(size=(10, 2))\n",
    "hue_np = np.random.randint(low=0, high=3, size=(10, 1), dtype=np.int8)\n",
    "df = pd.concat([pd.DataFrame(x_np), pd.DataFrame(hue_np)], axis=1)\n",
    "df.columns = ['x1', 'x2', 'label']\n",
    "df.info()\n",
    "df.label = df.label.astype('category')"
   ]
  },
  {
   "cell_type": "code",
   "execution_count": 53,
   "metadata": {},
   "outputs": [
    {
     "name": "stderr",
     "output_type": "stream",
     "text": [
      "c:\\Users\\Bruno Fontana\\AppData\\Local\\pypoetry\\Cache\\virtualenvs\\sandbox-dXrXqOs7-py3.10\\lib\\site-packages\\altair\\utils\\core.py:317: FutureWarning: iteritems is deprecated and will be removed in a future version. Use .items instead.\n",
      "  for col_name, dtype in df.dtypes.iteritems():\n"
     ]
    },
    {
     "data": {
      "text/html": [
       "\n",
       "<div id=\"altair-viz-fc49fd35020546e8ab73aec678f2c734\"></div>\n",
       "<script type=\"text/javascript\">\n",
       "  var VEGA_DEBUG = (typeof VEGA_DEBUG == \"undefined\") ? {} : VEGA_DEBUG;\n",
       "  (function(spec, embedOpt){\n",
       "    let outputDiv = document.currentScript.previousElementSibling;\n",
       "    if (outputDiv.id !== \"altair-viz-fc49fd35020546e8ab73aec678f2c734\") {\n",
       "      outputDiv = document.getElementById(\"altair-viz-fc49fd35020546e8ab73aec678f2c734\");\n",
       "    }\n",
       "    const paths = {\n",
       "      \"vega\": \"https://cdn.jsdelivr.net/npm//vega@5?noext\",\n",
       "      \"vega-lib\": \"https://cdn.jsdelivr.net/npm//vega-lib?noext\",\n",
       "      \"vega-lite\": \"https://cdn.jsdelivr.net/npm//vega-lite@4.17.0?noext\",\n",
       "      \"vega-embed\": \"https://cdn.jsdelivr.net/npm//vega-embed@6?noext\",\n",
       "    };\n",
       "\n",
       "    function maybeLoadScript(lib, version) {\n",
       "      var key = `${lib.replace(\"-\", \"\")}_version`;\n",
       "      return (VEGA_DEBUG[key] == version) ?\n",
       "        Promise.resolve(paths[lib]) :\n",
       "        new Promise(function(resolve, reject) {\n",
       "          var s = document.createElement('script');\n",
       "          document.getElementsByTagName(\"head\")[0].appendChild(s);\n",
       "          s.async = true;\n",
       "          s.onload = () => {\n",
       "            VEGA_DEBUG[key] = version;\n",
       "            return resolve(paths[lib]);\n",
       "          };\n",
       "          s.onerror = () => reject(`Error loading script: ${paths[lib]}`);\n",
       "          s.src = paths[lib];\n",
       "        });\n",
       "    }\n",
       "\n",
       "    function showError(err) {\n",
       "      outputDiv.innerHTML = `<div class=\"error\" style=\"color:red;\">${err}</div>`;\n",
       "      throw err;\n",
       "    }\n",
       "\n",
       "    function displayChart(vegaEmbed) {\n",
       "      vegaEmbed(outputDiv, spec, embedOpt)\n",
       "        .catch(err => showError(`Javascript Error: ${err.message}<br>This usually means there's a typo in your chart specification. See the javascript console for the full traceback.`));\n",
       "    }\n",
       "\n",
       "    if(typeof define === \"function\" && define.amd) {\n",
       "      requirejs.config({paths});\n",
       "      require([\"vega-embed\"], displayChart, err => showError(`Error loading script: ${err.message}`));\n",
       "    } else {\n",
       "      maybeLoadScript(\"vega\", \"5\")\n",
       "        .then(() => maybeLoadScript(\"vega-lite\", \"4.17.0\"))\n",
       "        .then(() => maybeLoadScript(\"vega-embed\", \"6\"))\n",
       "        .catch(showError)\n",
       "        .then(() => displayChart(vegaEmbed));\n",
       "    }\n",
       "  })({\"config\": {\"view\": {\"continuousWidth\": 400, \"continuousHeight\": 300}}, \"data\": {\"name\": \"data-1cbc9782fc8772bc73d3cee184ac669a\"}, \"mark\": {\"type\": \"circle\", \"size\": 40}, \"encoding\": {\"color\": {\"field\": \"label\", \"type\": \"nominal\"}, \"tooltip\": [{\"field\": \"x1\", \"type\": \"quantitative\"}], \"x\": {\"field\": \"x1\", \"type\": \"quantitative\"}, \"y\": {\"field\": \"x2\", \"type\": \"quantitative\"}}, \"selection\": {\"selector027\": {\"type\": \"interval\", \"bind\": \"scales\", \"encodings\": [\"x\", \"y\"]}, \"selector026\": {\"type\": \"interval\"}}, \"$schema\": \"https://vega.github.io/schema/vega-lite/v4.17.0.json\", \"datasets\": {\"data-1cbc9782fc8772bc73d3cee184ac669a\": [{\"x1\": 0.640072180728404, \"x2\": 0.7044781656956995, \"label\": 1}, {\"x1\": 0.22161666287662407, \"x2\": 0.28824597675422703, \"label\": 0}, {\"x1\": 0.9852455805276518, \"x2\": 0.8480474981782206, \"label\": 1}, {\"x1\": 0.36330720125481075, \"x2\": 0.8866604201259979, \"label\": 2}, {\"x1\": 0.22570070585012236, \"x2\": 0.5745753998502842, \"label\": 1}, {\"x1\": 0.5995010467420909, \"x2\": 0.26809009796884964, \"label\": 2}, {\"x1\": 0.14783550158152237, \"x2\": 0.32737562450218194, \"label\": 1}, {\"x1\": 0.8124285860836618, \"x2\": 0.539226363618816, \"label\": 1}, {\"x1\": 0.9993686485560072, \"x2\": 0.2995313117184889, \"label\": 0}, {\"x1\": 0.6291864290625461, \"x2\": 0.15607758370256852, \"label\": 0}]}}, {\"mode\": \"vega-lite\"});\n",
       "</script>"
      ],
      "text/plain": [
       "alt.Chart(...)"
      ]
     },
     "execution_count": 53,
     "metadata": {},
     "output_type": "execute_result"
    }
   ],
   "source": [
    "interval = alt.selection_interval()\n",
    "\n",
    "chart = alt.Chart(df).mark_circle(size=40)\\\n",
    "    .encode(x='x1', y='x2', color='label',\n",
    "    tooltip=['x1'])\\\n",
    "    .interactive()\\\n",
    "    .add_selection(interval)\n",
    "\n",
    "chart\n",
    "# chart.save('chart.html')"
   ]
  },
  {
   "cell_type": "code",
   "execution_count": null,
   "metadata": {},
   "outputs": [],
   "source": []
  }
 ],
 "metadata": {
  "kernelspec": {
   "display_name": "sandbox-dXrXqOs7-py3.10",
   "language": "python",
   "name": "python3"
  },
  "language_info": {
   "codemirror_mode": {
    "name": "ipython",
    "version": 3
   },
   "file_extension": ".py",
   "mimetype": "text/x-python",
   "name": "python",
   "nbconvert_exporter": "python",
   "pygments_lexer": "ipython3",
   "version": "3.10.9"
  },
  "orig_nbformat": 4,
  "vscode": {
   "interpreter": {
    "hash": "8df3bc7b622e3240b7bf8755e80347f518da80320f279ed74caca40f90a475ac"
   }
  }
 },
 "nbformat": 4,
 "nbformat_minor": 2
}
