{
 "cells": [
  {
   "cell_type": "code",
   "execution_count": 2,
   "metadata": {},
   "outputs": [],
   "source": [
    "import numpy as np\n",
    "import pandas as pd\n",
    "import altair as alt"
   ]
  },
  {
   "cell_type": "code",
   "execution_count": 3,
   "metadata": {},
   "outputs": [
    {
     "name": "stdout",
     "output_type": "stream",
     "text": [
      "<class 'pandas.core.frame.DataFrame'>\n",
      "RangeIndex: 10 entries, 0 to 9\n",
      "Data columns (total 3 columns):\n",
      " #   Column  Non-Null Count  Dtype  \n",
      "---  ------  --------------  -----  \n",
      " 0   x1      10 non-null     float64\n",
      " 1   x2      10 non-null     float64\n",
      " 2   label   10 non-null     int8   \n",
      "dtypes: float64(2), int8(1)\n",
      "memory usage: 298.0 bytes\n"
     ]
    }
   ],
   "source": [
    "x_np = np.random.random(size=(10, 2))\n",
    "hue_np = np.random.randint(low=0, high=3, size=(10, 1), dtype=np.int8)\n",
    "df = pd.concat([pd.DataFrame(x_np), pd.DataFrame(hue_np)], axis=1)\n",
    "df.columns = ['x1', 'x2', 'label']\n",
    "df.info()\n",
    "df.label = df.label.astype('category')"
   ]
  },
  {
   "cell_type": "code",
   "execution_count": 9,
   "metadata": {},
   "outputs": [
    {
     "data": {
      "text/html": [
       "\n",
       "<div id=\"altair-viz-934f342dc2a6492cae7e848cd831c5b4\"></div>\n",
       "<script type=\"text/javascript\">\n",
       "  var VEGA_DEBUG = (typeof VEGA_DEBUG == \"undefined\") ? {} : VEGA_DEBUG;\n",
       "  (function(spec, embedOpt){\n",
       "    let outputDiv = document.currentScript.previousElementSibling;\n",
       "    if (outputDiv.id !== \"altair-viz-934f342dc2a6492cae7e848cd831c5b4\") {\n",
       "      outputDiv = document.getElementById(\"altair-viz-934f342dc2a6492cae7e848cd831c5b4\");\n",
       "    }\n",
       "    const paths = {\n",
       "      \"vega\": \"https://cdn.jsdelivr.net/npm//vega@5?noext\",\n",
       "      \"vega-lib\": \"https://cdn.jsdelivr.net/npm//vega-lib?noext\",\n",
       "      \"vega-lite\": \"https://cdn.jsdelivr.net/npm//vega-lite@4.17.0?noext\",\n",
       "      \"vega-embed\": \"https://cdn.jsdelivr.net/npm//vega-embed@6?noext\",\n",
       "    };\n",
       "\n",
       "    function maybeLoadScript(lib, version) {\n",
       "      var key = `${lib.replace(\"-\", \"\")}_version`;\n",
       "      return (VEGA_DEBUG[key] == version) ?\n",
       "        Promise.resolve(paths[lib]) :\n",
       "        new Promise(function(resolve, reject) {\n",
       "          var s = document.createElement('script');\n",
       "          document.getElementsByTagName(\"head\")[0].appendChild(s);\n",
       "          s.async = true;\n",
       "          s.onload = () => {\n",
       "            VEGA_DEBUG[key] = version;\n",
       "            return resolve(paths[lib]);\n",
       "          };\n",
       "          s.onerror = () => reject(`Error loading script: ${paths[lib]}`);\n",
       "          s.src = paths[lib];\n",
       "        });\n",
       "    }\n",
       "\n",
       "    function showError(err) {\n",
       "      outputDiv.innerHTML = `<div class=\"error\" style=\"color:red;\">${err}</div>`;\n",
       "      throw err;\n",
       "    }\n",
       "\n",
       "    function displayChart(vegaEmbed) {\n",
       "      vegaEmbed(outputDiv, spec, embedOpt)\n",
       "        .catch(err => showError(`Javascript Error: ${err.message}<br>This usually means there's a typo in your chart specification. See the javascript console for the full traceback.`));\n",
       "    }\n",
       "\n",
       "    if(typeof define === \"function\" && define.amd) {\n",
       "      requirejs.config({paths});\n",
       "      require([\"vega-embed\"], displayChart, err => showError(`Error loading script: ${err.message}`));\n",
       "    } else {\n",
       "      maybeLoadScript(\"vega\", \"5\")\n",
       "        .then(() => maybeLoadScript(\"vega-lite\", \"4.17.0\"))\n",
       "        .then(() => maybeLoadScript(\"vega-embed\", \"6\"))\n",
       "        .catch(showError)\n",
       "        .then(() => displayChart(vegaEmbed));\n",
       "    }\n",
       "  })({\"config\": {\"view\": {\"continuousWidth\": 400, \"continuousHeight\": 300}}, \"layer\": [{\"mark\": {\"type\": \"circle\", \"size\": 40}, \"encoding\": {\"color\": {\"field\": \"label\", \"type\": \"nominal\"}, \"tooltip\": [{\"field\": \"x1\", \"type\": \"quantitative\"}], \"x\": {\"field\": \"x1\", \"type\": \"quantitative\"}, \"y\": {\"field\": \"x2\", \"type\": \"quantitative\"}}, \"selection\": {\"selector012\": {\"type\": \"interval\", \"bind\": \"scales\", \"encodings\": [\"x\", \"y\"]}}}, {\"mark\": \"point\", \"encoding\": {\"opacity\": {\"value\": 0}, \"x\": {\"field\": \"x1\", \"type\": \"quantitative\"}}, \"selection\": {\"selector011\": {\"type\": \"single\", \"nearest\": true, \"on\": \"mouseover\", \"fields\": [\"x1\"]}}}, {\"mark\": {\"type\": \"text\", \"align\": \"left\", \"dx\": 3, \"dy\": -3}, \"encoding\": {\"color\": {\"field\": \"label\", \"type\": \"nominal\"}, \"text\": {\"condition\": {\"field\": \"label\", \"type\": \"nominal\", \"selection\": \"selector011\"}, \"value\": \" \"}, \"tooltip\": [{\"field\": \"x1\", \"type\": \"quantitative\"}], \"x\": {\"field\": \"x1\", \"type\": \"quantitative\"}, \"y\": {\"field\": \"x2\", \"type\": \"quantitative\"}}}], \"data\": {\"name\": \"data-3765a39f6a98d24de7987d959978ce4a\"}, \"width\": 600, \"$schema\": \"https://vega.github.io/schema/vega-lite/v4.17.0.json\", \"datasets\": {\"data-3765a39f6a98d24de7987d959978ce4a\": [{\"x1\": 0.8648455056680201, \"x2\": 0.457256557126934, \"label\": 0}, {\"x1\": 0.6135150121006137, \"x2\": 0.3926943683616284, \"label\": 1}, {\"x1\": 0.8529976527202541, \"x2\": 0.6920782325322296, \"label\": 2}, {\"x1\": 0.13713872282628503, \"x2\": 0.5776488829863059, \"label\": 1}, {\"x1\": 0.5621528860310857, \"x2\": 0.009751123343990642, \"label\": 0}, {\"x1\": 0.7283678074822415, \"x2\": 0.1931939920510669, \"label\": 1}, {\"x1\": 0.4471401589354955, \"x2\": 0.05329528580043341, \"label\": 0}, {\"x1\": 0.7274994940673789, \"x2\": 0.5116305538009126, \"label\": 2}, {\"x1\": 0.42667460674947766, \"x2\": 0.5036415575366289, \"label\": 0}, {\"x1\": 0.48440351342396126, \"x2\": 0.033986528461005694, \"label\": 0}]}}, {\"mode\": \"vega-lite\"});\n",
       "</script>"
      ],
      "text/plain": [
       "alt.LayerChart(...)"
      ]
     },
     "execution_count": 9,
     "metadata": {},
     "output_type": "execute_result"
    }
   ],
   "source": [
    "scatterplot = alt.Chart().mark_circle(size=40)\\\n",
    "    .encode(x='x1:Q', y='x2:Q', color='label:N',\n",
    "    tooltip=['x1'])\n",
    "\n",
    "nearest = alt.selection(type='single', nearest=True, on='mouseover',\n",
    "                        fields=['x1'])\n",
    "\n",
    "selectors = alt.Chart().mark_point()\\\n",
    "    .encode(x=\"x1:Q\", opacity=alt.value(0))\\\n",
    "    .add_selection(nearest)\n",
    "\n",
    "text = scatterplot\\\n",
    "    .mark_text(align='left', dx=3, dy=-3)\\\n",
    "    .encode(text=alt.condition(nearest, 'label:N', alt.value(' ')))\n",
    "\n",
    "\n",
    "chart = alt.layer(scatterplot, selectors, text, data=df, width=600).interactive()\n",
    "chart.save('chart.html')\n",
    "chart\n"
   ]
  },
  {
   "cell_type": "code",
   "execution_count": null,
   "metadata": {},
   "outputs": [],
   "source": []
  },
  {
   "cell_type": "code",
   "execution_count": null,
   "metadata": {},
   "outputs": [],
   "source": []
  }
 ],
 "metadata": {
  "kernelspec": {
   "display_name": "sandbox-dXrXqOs7-py3.10",
   "language": "python",
   "name": "python3"
  },
  "language_info": {
   "codemirror_mode": {
    "name": "ipython",
    "version": 3
   },
   "file_extension": ".py",
   "mimetype": "text/x-python",
   "name": "python",
   "nbconvert_exporter": "python",
   "pygments_lexer": "ipython3",
   "version": "3.10.9"
  },
  "orig_nbformat": 4,
  "vscode": {
   "interpreter": {
    "hash": "8df3bc7b622e3240b7bf8755e80347f518da80320f279ed74caca40f90a475ac"
   }
  }
 },
 "nbformat": 4,
 "nbformat_minor": 2
}
